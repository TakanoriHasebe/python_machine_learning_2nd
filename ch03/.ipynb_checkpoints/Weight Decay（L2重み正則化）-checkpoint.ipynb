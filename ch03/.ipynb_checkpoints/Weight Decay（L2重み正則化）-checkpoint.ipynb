{
 "cells": [
  {
   "cell_type": "markdown",
   "metadata": {},
   "source": [
    "### Weight Decay"
   ]
  },
  {
   "cell_type": "markdown",
   "metadata": {},
   "source": [
    "大きな重みを持つことに対してペナルティを課すことで、過学習を抑制する。<br>\n",
    "ニューラルネットワークの学習は、「損失関数の値を小さくすること」を目的として行われる。<br>\n",
    "この時、「重みの２乗ノルムを損失関数に加算」する。<br>\n",
    "そうすれば、「重みが大きくなることを抑える」ことができる。<br>"
   ]
  },
  {
   "cell_type": "code",
   "execution_count": null,
   "metadata": {},
   "outputs": [],
   "source": []
  }
 ],
 "metadata": {
  "kernelspec": {
   "display_name": "Python 3",
   "language": "python",
   "name": "python3"
  },
  "language_info": {
   "codemirror_mode": {
    "name": "ipython",
    "version": 3
   },
   "file_extension": ".py",
   "mimetype": "text/x-python",
   "name": "python",
   "nbconvert_exporter": "python",
   "pygments_lexer": "ipython3",
   "version": "3.6.6"
  }
 },
 "nbformat": 4,
 "nbformat_minor": 2
}
