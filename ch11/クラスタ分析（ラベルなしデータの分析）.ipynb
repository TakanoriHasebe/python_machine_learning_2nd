{
 "cells": [
  {
   "cell_type": "markdown",
   "metadata": {},
   "source": [
    "クラスタ分析では、正しい答えが事前に分かっていないデータから、隠れた構造を見つけ出すことができる。<br>"
   ]
  },
  {
   "cell_type": "markdown",
   "metadata": {},
   "source": [
    "<ul>\n",
    "    <li>よく知られているk-meansを使って類似点の中心を見つける。</li>\n",
    "    <li>階層的クラスタ木をボトムアップ形式で構築。</li>\n",
    "    <li>密度に基づくクラスタリングアプローチを使ってオブジェクトの任意の形状を識別。</li>\n",
    "</ul>"
   ]
  },
  {
   "cell_type": "markdown",
   "metadata": {},
   "source": [
    "### K-means法を使った類似度によるオブジェクトのグループ化"
   ]
  },
  {
   "cell_type": "markdown",
   "metadata": {},
   "source": [
    "k-mean法は、産業界でも学術界でも広く使用されている。<br>"
   ]
  },
  {
   "cell_type": "markdown",
   "metadata": {},
   "source": [
    "### scikit-learnを使ったk-meansクラスタリング"
   ]
  },
  {
   "cell_type": "code",
   "execution_count": null,
   "metadata": {},
   "outputs": [],
   "source": []
  }
 ],
 "metadata": {
  "kernelspec": {
   "display_name": "Python 3",
   "language": "python",
   "name": "python3"
  },
  "language_info": {
   "codemirror_mode": {
    "name": "ipython",
    "version": 3
   },
   "file_extension": ".py",
   "mimetype": "text/x-python",
   "name": "python",
   "nbconvert_exporter": "python",
   "pygments_lexer": "ipython3",
   "version": "3.6.6"
  }
 },
 "nbformat": 4,
 "nbformat_minor": 2
}
